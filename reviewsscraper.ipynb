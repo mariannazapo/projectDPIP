{
 "cells": [
  {
   "cell_type": "code",
   "execution_count": 1,
   "metadata": {},
   "outputs": [
    {
     "name": "stderr",
     "output_type": "stream",
     "text": [
      "/var/folders/4h/6_x41ljs40b6qtydhdtdtx280000gn/T/ipykernel_4927/1585860332.py:7: DeprecationWarning: \n",
      "Pyarrow will become a required dependency of pandas in the next major release of pandas (pandas 3.0),\n",
      "(to allow more performant data types, such as the Arrow string type, and better interoperability with other libraries)\n",
      "but was not found to be installed on your system.\n",
      "If this would cause problems for you,\n",
      "please provide us feedback at https://github.com/pandas-dev/pandas/issues/54466\n",
      "        \n",
      "  import pandas as pd\n"
     ]
    }
   ],
   "source": [
    "from selenium import webdriver\n",
    "from selenium.webdriver.common.by import By\n",
    "from selenium.webdriver.support.ui import WebDriverWait\n",
    "from selenium.webdriver.support import expected_conditions as EC\n",
    "import time\n",
    "from bs4 import BeautifulSoup\n",
    "import pandas as pd"
   ]
  },
  {
   "cell_type": "code",
   "execution_count": 2,
   "metadata": {},
   "outputs": [],
   "source": [
    "# downloading and saving the HTML content using Selenium\n",
    "def download_html(driver, file_path):\n",
    "    time.sleep(5)  # Wait for JavaScript to render\n",
    "    # save the page source (HTML) to a file\n",
    "    html_content = driver.page_source\n",
    "    with open(file_path, 'w', encoding='utf-8') as file:\n",
    "        file.write(html_content)"
   ]
  },
  {
   "cell_type": "code",
   "execution_count": 3,
   "metadata": {},
   "outputs": [],
   "source": [
    "# extracting reviews\n",
    "def get_reviews(soup):\n",
    "    reviews_list = []\n",
    "\n",
    "    # finding the review elements\n",
    "    reviews = soup.find_all('div', {'data-hook': 'review'})\n",
    "    if not reviews:\n",
    "        print(\"No reviews found on this page.\")\n",
    "        exit()\n",
    "        return reviews_list\n",
    "\n",
    "    for review in reviews:\n",
    "        try:\n",
    "            # review title\n",
    "            title_element = review.find('a', {'data-hook': 'review-title'})\n",
    "            title = title_element.text.strip().split(\"\\n\")[-1] if title_element else 'No title'\n",
    "\n",
    "            # review body\n",
    "            body_element = review.find('span', {'data-hook': 'review-body'})\n",
    "            body = body_element.text.strip() if body_element else 'No body'\n",
    "\n",
    "            # review rating\n",
    "            rating_element = review.find('i', {'data-hook': 'review-star-rating'})\n",
    "            rating = rating_element.text.strip() if rating_element else 'No rating'\n",
    "\n",
    "            reviews_list.append({\n",
    "                \"title\": title,\n",
    "                \"body\": body,\n",
    "                \"rating\": rating,\n",
    "            })\n",
    "        except AttributeError as e:\n",
    "            print(f\"Error parsing review: {e}\")\n",
    "    \n",
    "    return reviews_list"
   ]
  },
  {
   "cell_type": "code",
   "execution_count": 4,
   "metadata": {},
   "outputs": [],
   "source": [
    "# main function, putting it into a data frame\n",
    "def mein(base_url):\n",
    "    html_file_path = 'amazon_reviews.html'\n",
    "    options = webdriver.ChromeOptions()\n",
    "    options.add_argument('--headless')  # \n",
    "    driver = webdriver.Chrome(options=options)\n",
    "\n",
    "    dataframe = pd.DataFrame(columns = [\"title\", \"body\", \"rating\"])\n",
    "    t = []\n",
    "    b = []\n",
    "    r = []\n",
    "\n",
    "    try:\n",
    "        for page_number in range(1,11):\n",
    "            url = base_url + str(page_number)\n",
    "            driver.get(url)\n",
    "            download_html(driver, html_file_path)\n",
    "            with open(html_file_path, 'r', encoding='utf-8') as file:\n",
    "                html_content = file.read()\n",
    "            soup = BeautifulSoup(html_content, 'html.parser')\n",
    "            reviews = get_reviews(soup)\n",
    "            if not reviews and page_number == 1:  # if no reviews found on the first page => break the loop\n",
    "                break\n",
    "            for review in reviews:\n",
    "                t.append(review[\"title\"])\n",
    "                b.append(review[\"body\"])\n",
    "                r.append(review[\"rating\"])\n",
    "\n",
    "    finally:\n",
    "        driver.quit()\n",
    "    \n",
    "    dataframe[\"title\"] = t\n",
    "    dataframe[\"body\"] = b\n",
    "    dataframe[\"rating\"] = r\n",
    "    print(dataframe)\n",
    "    \n"
   ]
  },
  {
   "cell_type": "code",
   "execution_count": 5,
   "metadata": {},
   "outputs": [
    {
     "name": "stdout",
     "output_type": "stream",
     "text": [
      "                                                title  \\\n",
      "0   For the price, there aren’t many as good as this.   \n",
      "1                                      Great headset!   \n",
      "2   Not the most comfortable, but pretty good all ...   \n",
      "3                                       price quality   \n",
      "4   Designed and manufactured very well. They work...   \n",
      "..                                                ...   \n",
      "95                                             gaming   \n",
      "96                                              great   \n",
      "97  Immersive Gaming Experience: Gaming Headphones...   \n",
      "98        The bass drivers really need to be cranked!   \n",
      "99          Hard to beat these at this price point !!   \n",
      "\n",
      "                                                 body              rating  \n",
      "0   I never was a huge Razer fan but these are inc...  5.0 out of 5 stars  \n",
      "1   I was looking for something comfortable with b...  5.0 out of 5 stars  \n",
      "2   Bought this to replace a Plantronics Rig wired...  4.0 out of 5 stars  \n",
      "3   The headbands are excellent, I have no complai...  5.0 out of 5 stars  \n",
      "4   I've been using this headset for 20 days, and ...  5.0 out of 5 stars  \n",
      "..                                                ...                 ...  \n",
      "95  For what it costs, I had relatively low expect...  5.0 out of 5 stars  \n",
      "96  It works very well! Sound is great and it's ve...  5.0 out of 5 stars  \n",
      "97  I recently upgraded my gaming setup with a pai...  5.0 out of 5 stars  \n",
      "98  I do a lot of stuff with my computer, and like...  5.0 out of 5 stars  \n",
      "99  I've been through quite a few different headse...  4.0 out of 5 stars  \n",
      "\n",
      "[100 rows x 3 columns]\n"
     ]
    }
   ],
   "source": [
    "\n",
    "if __name__ == '__main__':\n",
    "    mein(base_url = 'https://www.amazon.com/Razer-BlackShark-V2-Gaming-Headset/product-reviews/B09PZG4R17/ref=cm_cr_dp_d_show_all_btm?ie=UTF8&reviewerType=all_reviews')\n",
    "    "
   ]
  }
 ],
 "metadata": {
  "kernelspec": {
   "display_name": "Python 3",
   "language": "python",
   "name": "python3"
  },
  "language_info": {
   "codemirror_mode": {
    "name": "ipython",
    "version": 3
   },
   "file_extension": ".py",
   "mimetype": "text/x-python",
   "name": "python",
   "nbconvert_exporter": "python",
   "pygments_lexer": "ipython3",
   "version": "3.11.8"
  }
 },
 "nbformat": 4,
 "nbformat_minor": 2
}
