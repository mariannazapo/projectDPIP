{
 "cells": [
  {
   "cell_type": "code",
   "execution_count": 1,
   "metadata": {},
   "outputs": [],
   "source": [
    "from selenium import webdriver\n",
    "from selenium.webdriver.common.by import By\n",
    "from selenium.webdriver.support.ui import WebDriverWait\n",
    "from selenium.webdriver.support import expected_conditions as EC\n",
    "import time\n",
    "from bs4 import BeautifulSoup\n",
    "import pandas as pd\n",
    "from sklearn.linear_model import LogisticRegression\n",
    "from sklearn.metrics import accuracy_score\n",
    "from sklearn.feature_extraction.text import TfidfVectorizer, re, ENGLISH_STOP_WORDS\n",
    "from sklearn.metrics import confusion_matrix\n",
    "from sklearn.model_selection import train_test_split\n",
    "import matplotlib.pyplot as plt\n"
   ]
  },
  {
   "cell_type": "code",
   "execution_count": 2,
   "metadata": {},
   "outputs": [],
   "source": [
    "# downloading and saving the HTML content using Selenium\n",
    "def download_html(driver, file_path):\n",
    "    time.sleep(5)  # Wait for JavaScript to render\n",
    "    # save the page source (HTML) to a file\n",
    "    html_content = driver.page_source\n",
    "    with open(file_path, 'w', encoding='utf-8') as file:\n",
    "        file.write(html_content)"
   ]
  },
  {
   "cell_type": "code",
   "execution_count": 3,
   "metadata": {},
   "outputs": [],
   "source": [
    "# extracting reviews\n",
    "def get_reviews(soup):\n",
    "    reviews_list = []\n",
    "\n",
    "    # finding the review elements\n",
    "    reviews = soup.find_all('div', {'data-hook': 'review'})\n",
    "    if not reviews:\n",
    "        print(\"No reviews found on this page.\")\n",
    "        exit()\n",
    "        return reviews_list\n",
    "\n",
    "    for review in reviews:\n",
    "        try:\n",
    "            # review title\n",
    "            title_element = review.find('a', {'data-hook': 'review-title'})\n",
    "            title = title_element.text.strip().split(\"\\n\")[-1] if title_element else 'No title'\n",
    "\n",
    "            # review body\n",
    "            body_element = review.find('span', {'data-hook': 'review-body'})\n",
    "            body = body_element.text.strip() if body_element else 'No body'\n",
    "\n",
    "            # review rating\n",
    "            rating_element = review.find('i', {'data-hook': 'review-star-rating'})\n",
    "            rating = rating_element.text.strip() if rating_element else 'No rating'\n",
    "\n",
    "            # review date\n",
    "            date_element = review.find('span', {'data-hook': 'review-date'})\n",
    "            date = date_element.text.strip() if date_element else 'No date'\n",
    "\n",
    "            reviews_list.append({\n",
    "                \"title\": title,\n",
    "                \"body\": body,\n",
    "                \"rating\": rating,\n",
    "                \"date\": date\n",
    "            })\n",
    "        except AttributeError as e:\n",
    "            print(f\"Error parsing review: {e}\")\n",
    "    \n",
    "    return reviews_list"
   ]
  },
  {
   "cell_type": "code",
   "execution_count": 4,
   "metadata": {},
   "outputs": [],
   "source": [
    "# main function to scrape reviews, putting it into a data frame\n",
    "def scrape(asin):\n",
    "    html_file_path = 'amazon_reviews.html'\n",
    "    options = webdriver.ChromeOptions()\n",
    "    options.add_argument('--headless')  # \n",
    "    driver = webdriver.Chrome(options=options)\n",
    "\n",
    "    dataframe = pd.DataFrame(columns = [\"title\", \"body\", \"rating\", \"date\"])\n",
    "    t = []\n",
    "    b = []\n",
    "    r = []\n",
    "    d = []\n",
    "\n",
    "    try:\n",
    "        for page_number in range(1,11):\n",
    "            url = f'https://www.amazon.com/product-reviews/{asin}/ref=cm_cr_arp_d_paging_btm_next_2?ie=UTF8&reviewerType=all_reviews&pageNumber=' + str(page_number)\n",
    "            driver.get(url)\n",
    "            download_html(driver, html_file_path)\n",
    "            with open(html_file_path, 'r', encoding='utf-8') as file:\n",
    "                html_content = file.read()\n",
    "            soup = BeautifulSoup(html_content, 'html.parser')\n",
    "            reviews = get_reviews(soup)\n",
    "            if not reviews and page_number == 1:  # if no reviews found on the first page => break the loop\n",
    "                break\n",
    "            for review in reviews:\n",
    "                t.append(review[\"title\"])\n",
    "                b.append(review[\"body\"])\n",
    "                r.append(review[\"rating\"])\n",
    "                d.append(review[\"date\"])\n",
    "\n",
    "    finally:\n",
    "        driver.quit()\n",
    "    \n",
    "    dataframe[\"title\"] = t\n",
    "    dataframe[\"body\"] = b\n",
    "    dataframe[\"rating\"] = r\n",
    "    dataframe[\"date\"] = d\n",
    "    return dataframe\n",
    "    \n"
   ]
  },
  {
   "cell_type": "markdown",
   "metadata": {},
   "source": [
    "ani zdaleka nie dokoncene ale pozriem na to neskor :)..."
   ]
  },
  {
   "cell_type": "code",
   "execution_count": 3,
   "metadata": {},
   "outputs": [],
   "source": [
    "def onlyletters(text):\n",
    "    no_punc = re.sub(r'[^\\w\\s]', '',text)\n",
    "    no_digits = ''.join([i for i in no_punc if not i.isdigit()])\n",
    "    return(no_digits)"
   ]
  },
  {
   "cell_type": "code",
   "execution_count": 4,
   "metadata": {},
   "outputs": [],
   "source": [
    "# 40000 amazon reviews to train the model\n",
    "def trainedmodel():\n",
    "    data = pd.read_csv(\"40kamazonreviews.csv\")\n",
    "    data[\"sentiment\"] = data[\"sentiment\"].apply(lambda x: int(x))\n",
    "    data[\"body\"] = data[\"body\"].apply(onlyletters)\n",
    "\n",
    "\n",
    "    # logistic regression model\n",
    "    vektor = TfidfVectorizer(max_features = 120)\n",
    "\n",
    "    # numpy array of features and label (vector of targets)\n",
    "    Xko = vektor.fit_transform(data.body)\n",
    "    yko = data[\"sentiment\"]\n",
    "\n",
    "    # splitting the dataset into training and testing, building the model\n",
    "    X_train, X_test, y_train, y_test = train_test_split(Xko,yko, test_size= 0.25, random_state=42)\n",
    "    log_reg = LogisticRegression().fit(X_train,y_train)\n",
    "\n",
    "    # evaluating the accuracy of the model using the test part of the dataset\n",
    "    preds = log_reg.predict(X_test)\n",
    "    accuracy_score(preds,y_test) #0.8516870999240533\n",
    "\n",
    "    return log_reg\n"
   ]
  },
  {
   "cell_type": "code",
   "execution_count": 26,
   "metadata": {},
   "outputs": [],
   "source": [
    "# predicting the sentiment of our reviews\n",
    "\n",
    "def oursentiment(asin): \n",
    "    df = scrape(asin)\n",
    "    log_reg = trainedmodel()\n",
    "    vektor = TfidfVectorizer(max_features = 120)\n",
    "\n",
    "    # cleaning the amazon dataset (rating, stars and sentiment to check the accuracy)\n",
    "    df[\"body\"] = df[\"body\"].apply(onlyletters)\n",
    "    df.loc[(df[\"rating\"] == \"No rating\"), \"rating\"] = None\n",
    "    df = df.dropna(subset=\"rating\")\n",
    "    df[\"stars\"] = df[\"rating\"].apply(lambda x: x.split(\".\")[0])\n",
    "    df.loc[(df[\"stars\"] == 3), \"stars\"] = None \n",
    "    df = df.dropna(subset=\"stars\") \n",
    "    df[\"sentiment\"] = 0\n",
    "    df.loc[(df[\"stars\"] == \"5\") | (df[\"stars\"] == \"4\"), \"sentiment\"] = 1 \n",
    "    df.loc[(df[\"stars\"] == \"3\"), \"sentiment\"] = None \n",
    "    df = df.dropna(subset=\"sentiment\")\n",
    "    \n",
    "    # predicting the sentiment of our reviews with the logistic regression model\n",
    "    X = vektor.fit_transform(df.body)\n",
    "    predict = log_reg.predict(X)\n",
    "    l = [int(i) for i in df[\"sentiment\"]]\n",
    "\n",
    "    \n",
    "    print(predict, l, len(predict), len(l))\n",
    "    print(df)\n",
    "    print(\"the accuracy based on stars is:\", accuracy_score(predict, l))\n",
    "    print(\"number of accurately predicted sentiment:\", sum(predict == l), \"out of\", len(l))\n",
    "    #print(confusion_matrix([int(i) for i in df[\"sentiment\"]], predict)/len([int(i) for i in df[\"sentiment\"]]))\n",
    "    return predict"
   ]
  },
  {
   "cell_type": "code",
   "execution_count": 27,
   "metadata": {},
   "outputs": [
    {
     "name": "stdout",
     "output_type": "stream",
     "text": [
      "[1 1 1 1 1 1 1 1 1 1 1 1 1 1 1 1 1 1 1 1 1 1 1 1 1 1 1 1 1 1 1 1 1 1 1 1 1\n",
      " 1 1 1 1 1 1 1 1 1 1 1 1 1 1 1 1 1 1 1 1 1 1 1 1 1 1 1 1 1 1 1 1 1 1 1 1] [1, 1, 1, 1, 0, 1, 0, 1, 1, 1, 1, 1, 1, 1, 1, 1, 1, 1, 1, 1, 1, 1, 1, 1, 1, 1, 1, 1, 0, 1, 1, 1, 1, 1, 1, 1, 1, 1, 1, 1, 1, 1, 1, 1, 0, 1, 1, 0, 0, 1, 0, 1, 1, 1, 1, 1, 0, 1, 0, 1, 1, 1, 1, 1, 1, 1, 1, 0, 1, 1, 1, 0, 1] 73 73\n",
      "                                                title  \\\n",
      "0                    Comfortable and easy to assemble   \n",
      "1                    Game changer!! (no pun intended)   \n",
      "2          It’s actually great. Definitely recommend.   \n",
      "3                                          Broken Arm   \n",
      "4   It has it's ups and downs until it doesn't go ...   \n",
      "..                                                ...   \n",
      "94                     Fabrics on the armrest ripped.   \n",
      "96                                    Awesome chair !   \n",
      "97                broke after a few months **edited**   \n",
      "98                                    Not recommended   \n",
      "99                                        Super nice!   \n",
      "\n",
      "                                                 body  rating  sentiment  \n",
      "0   Ordered this to replace an old chair and Im gl...     5.0        1.0  \n",
      "1   I decided I needed an office chair upgrade due...     5.0        1.0  \n",
      "2   The media could not be loaded\\n               ...     4.0        1.0  \n",
      "3   Chair came with a broken arm We sent an email ...     5.0        1.0  \n",
      "4   I bought this chair in  and it actually only l...     1.0        0.0  \n",
      "..                                                ...     ...        ...  \n",
      "94  Kind of upset the fact the chair doesnt came p...     4.0        1.0  \n",
      "96  I got this chair for my boyfriend for his birt...     5.0        1.0  \n",
      "97  cheap parts not worth the value metal bends an...     5.0        1.0  \n",
      "98  Bought for less a month The feet pad is comple...     2.0        0.0  \n",
      "99  The chair itself is really nice everything wen...     4.0        1.0  \n",
      "\n",
      "[73 rows x 4 columns]\n",
      "the accuracy based on stars is: 0.8493150684931506\n",
      "number of accurately predicted sentiment: 62 out of 73\n",
      "sentiment\n",
      "1.0    62\n",
      "0.0    11\n",
      "Name: count, dtype: int64\n"
     ]
    }
   ],
   "source": [
    "predict = oursentiment()"
   ]
  },
  {
   "cell_type": "code",
   "execution_count": 35,
   "metadata": {},
   "outputs": [],
   "source": [
    "def sentimentdf(df):\n",
    "    df[\"body\"] = df[\"body\"].apply(onlyletters)\n",
    "    df.loc[(df[\"rating\"] == \"No rating\"), \"rating\"] = None\n",
    "    df = df.dropna(subset=\"rating\")\n",
    "    #df[\"stars\"] = df[\"rating\"].apply(lambda x: x.split(\".\")[0])\n",
    "    df.loc[(df[\"rating\"] == 3), \"rating\"] = None  #stars, \"3\"\n",
    "    df = df.dropna(subset=\"rating\") #stars\n",
    "    df[\"sentiment\"] = 0\n",
    "    df.loc[(df[\"rating\"] == 5) | (df[\"rating\"] == 4), \"sentiment\"] = 1 #\"5\", \"4\", stars\n",
    "    df.loc[(df[\"rating\"] == 3), \"sentiment\"] = None  #\"3\"\n",
    "    df = df.dropna(subset=\"sentiment\")\n",
    "    return df"
   ]
  },
  {
   "cell_type": "code",
   "execution_count": 40,
   "metadata": {},
   "outputs": [
    {
     "data": {
      "text/html": [
       "<div>\n",
       "<style scoped>\n",
       "    .dataframe tbody tr th:only-of-type {\n",
       "        vertical-align: middle;\n",
       "    }\n",
       "\n",
       "    .dataframe tbody tr th {\n",
       "        vertical-align: top;\n",
       "    }\n",
       "\n",
       "    .dataframe thead th {\n",
       "        text-align: right;\n",
       "    }\n",
       "</style>\n",
       "<table border=\"1\" class=\"dataframe\">\n",
       "  <thead>\n",
       "    <tr style=\"text-align: right;\">\n",
       "      <th></th>\n",
       "      <th>pn</th>\n",
       "      <th>value</th>\n",
       "    </tr>\n",
       "  </thead>\n",
       "  <tbody>\n",
       "    <tr>\n",
       "      <th>0</th>\n",
       "      <td>positive</td>\n",
       "      <td>73</td>\n",
       "    </tr>\n",
       "    <tr>\n",
       "      <th>1</th>\n",
       "      <td>negative</td>\n",
       "      <td>0</td>\n",
       "    </tr>\n",
       "  </tbody>\n",
       "</table>\n",
       "</div>"
      ],
      "text/plain": [
       "         pn  value\n",
       "0  positive     73\n",
       "1  negative      0"
      ]
     },
     "execution_count": 40,
     "metadata": {},
     "output_type": "execute_result"
    }
   ],
   "source": [
    "df = sentimentdf(df)\n",
    "counterP = 0\n",
    "counterN = 0\n",
    "for i in predict:\n",
    "    if i == 1:\n",
    "        counterP += 1\n",
    "    elif i == 0:\n",
    "        counterN += 1\n",
    "predictions = pd.DataFrame({\"pn\":[\"positive\", \"negative\"], \"value\": [counterP, counterN]})\n",
    "l = [int(i) for i in df[\"sentiment\"]]\n",
    "df[\"rating\"].value_counts()\n",
    "predictions.head()"
   ]
  },
  {
   "cell_type": "code",
   "execution_count": 32,
   "metadata": {},
   "outputs": [
    {
     "data": {
      "image/png": "[encoded data removed]",
      "text/plain": [
       "<Figure size 1500x1000 with 1 Axes>"
      ]
     },
     "metadata": {},
     "output_type": "display_data"
    }
   ],
   "source": [
    "# visualisation\n",
    "counterP = 0\n",
    "counterN = 0\n",
    "for i in predict:\n",
    "    if i == 1:\n",
    "        counterP += 1\n",
    "    elif i == 0:\n",
    "        counterN += 1\n",
    "predictions = pd.DataFrame({\"pn\":[\"positive\", \"negative\"], \"value\": [counterP, counterN]})\n",
    "colors = [\"green\", \"red\"]\n",
    "plt.figure(figsize = (15,10))\n",
    "plt.bar(predictions[\"pn\"], predictions[\"value\"], color = colors, alpha = 0.5)\n",
    "plt.xlabel(\"valence of a review\")\n",
    "colors = [\"green\", \"red\"]"
   ]
  }
 ],
 "metadata": {
  "kernelspec": {
   "display_name": "Python 3",
   "language": "python",
   "name": "python3"
  },
  "language_info": {
   "codemirror_mode": {
    "name": "ipython",
    "version": 3
   },
   "file_extension": ".py",
   "mimetype": "text/x-python",
   "name": "python",
   "nbconvert_exporter": "python",
   "pygments_lexer": "ipython3",
   "version": "3.11.5"
  }
 },
 "nbformat": 4,
 "nbformat_minor": 2
}
